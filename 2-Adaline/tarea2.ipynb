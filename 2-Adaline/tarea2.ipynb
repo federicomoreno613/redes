{
 "metadata": {
  "language_info": {
   "codemirror_mode": {
    "name": "ipython",
    "version": 3
   },
   "file_extension": ".py",
   "mimetype": "text/x-python",
   "name": "python",
   "nbconvert_exporter": "python",
   "pygments_lexer": "ipython3",
   "version": "3.8.3-final"
  },
  "orig_nbformat": 2,
  "kernelspec": {
   "name": "python3",
   "display_name": "Python 3"
  }
 },
 "nbformat": 4,
 "nbformat_minor": 2,
 "cells": [
  {
   "cell_type": "code",
   "execution_count": 3,
   "metadata": {},
   "outputs": [],
   "source": [
    "import numpy as np\n",
    "from matplotlib.pyplot import imread\n",
    "import numpy as np\n",
    "import matplotlib.pyplot as plt\n",
    "import pandas as pd"
   ]
  },
  {
   "source": [
    "# Ejercicio 3"
   ],
   "cell_type": "markdown",
   "metadata": {}
  },
  {
   "cell_type": "code",
   "execution_count": 9,
   "metadata": {},
   "outputs": [],
   "source": [
    "df = pd.read_csv(\"R_train.csv\", sep =\"\\t\", names=[\"x\",\"y\"])"
   ]
  },
  {
   "cell_type": "code",
   "execution_count": 10,
   "metadata": {},
   "outputs": [
    {
     "output_type": "execute_result",
     "data": {
      "text/plain": [
       "            x         y\n",
       "0    0.048002 -0.240688\n",
       "1    0.163760 -0.211450\n",
       "2    0.266934 -0.186647\n",
       "3    0.610881 -0.122231\n",
       "4    0.804938 -0.028705\n",
       "..        ...       ...\n",
       "699  0.505458 -0.138210\n",
       "700  0.640752 -0.096875\n",
       "701  0.645038 -0.095124\n",
       "702  0.440193 -0.142921\n",
       "703  0.004779 -0.291965\n",
       "\n",
       "[704 rows x 2 columns]"
      ],
      "text/html": "<div>\n<style scoped>\n    .dataframe tbody tr th:only-of-type {\n        vertical-align: middle;\n    }\n\n    .dataframe tbody tr th {\n        vertical-align: top;\n    }\n\n    .dataframe thead th {\n        text-align: right;\n    }\n</style>\n<table border=\"1\" class=\"dataframe\">\n  <thead>\n    <tr style=\"text-align: right;\">\n      <th></th>\n      <th>x</th>\n      <th>y</th>\n    </tr>\n  </thead>\n  <tbody>\n    <tr>\n      <th>0</th>\n      <td>0.048002</td>\n      <td>-0.240688</td>\n    </tr>\n    <tr>\n      <th>1</th>\n      <td>0.163760</td>\n      <td>-0.211450</td>\n    </tr>\n    <tr>\n      <th>2</th>\n      <td>0.266934</td>\n      <td>-0.186647</td>\n    </tr>\n    <tr>\n      <th>3</th>\n      <td>0.610881</td>\n      <td>-0.122231</td>\n    </tr>\n    <tr>\n      <th>4</th>\n      <td>0.804938</td>\n      <td>-0.028705</td>\n    </tr>\n    <tr>\n      <th>...</th>\n      <td>...</td>\n      <td>...</td>\n    </tr>\n    <tr>\n      <th>699</th>\n      <td>0.505458</td>\n      <td>-0.138210</td>\n    </tr>\n    <tr>\n      <th>700</th>\n      <td>0.640752</td>\n      <td>-0.096875</td>\n    </tr>\n    <tr>\n      <th>701</th>\n      <td>0.645038</td>\n      <td>-0.095124</td>\n    </tr>\n    <tr>\n      <th>702</th>\n      <td>0.440193</td>\n      <td>-0.142921</td>\n    </tr>\n    <tr>\n      <th>703</th>\n      <td>0.004779</td>\n      <td>-0.291965</td>\n    </tr>\n  </tbody>\n</table>\n<p>704 rows × 2 columns</p>\n</div>"
     },
     "metadata": {},
     "execution_count": 10
    }
   ],
   "source": [
    "df"
   ]
  },
  {
   "cell_type": "code",
   "execution_count": 11,
   "metadata": {},
   "outputs": [],
   "source": [
    "import adaline"
   ]
  },
  {
   "cell_type": "code",
   "execution_count": null,
   "metadata": {},
   "outputs": [],
   "source": [
    "def train(P, T, alfa, max_itera, cota_error, funcion, dibujar)"
   ]
  },
  {
   "cell_type": "code",
   "execution_count": 14,
   "metadata": {},
   "outputs": [],
   "source": [
    "from sklearn.model_selection import train_test_split"
   ]
  },
  {
   "cell_type": "code",
   "execution_count": 19,
   "metadata": {},
   "outputs": [],
   "source": [
    "P = df[0:492]\n",
    "T = df[493:len(df)]"
   ]
  },
  {
   "cell_type": "code",
   "execution_count": 21,
   "metadata": {},
   "outputs": [],
   "source": [
    "alfa = 0.5\n",
    "max_itera = 10\n",
    "cota_error = 0.11"
   ]
  },
  {
   "cell_type": "code",
   "execution_count": null,
   "metadata": {},
   "outputs": [],
   "source": [
    "adaline.train"
   ]
  },
  {
   "source": [
    "adaline.train(P, T, alfa, max_itera, cota_error, \"pureline\",True)"
   ],
   "cell_type": "markdown",
   "metadata": {}
  },
  {
   "source": [
    " X_train, X_test, y_train, y_test = train_test_split( X, y, test_size=0.33, random_state=42)"
   ],
   "cell_type": "markdown",
   "metadata": {}
  },
  {
   "source": [
    "# Ejercicio 4"
   ],
   "cell_type": "markdown",
   "metadata": {}
  },
  {
   "cell_type": "code",
   "execution_count": null,
   "metadata": {},
   "outputs": [],
   "source": []
  },
  {
   "cell_type": "code",
   "execution_count": null,
   "metadata": {},
   "outputs": [],
   "source": []
  }
 ]
}